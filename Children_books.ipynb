{
 "cells": [
  {
   "cell_type": "code",
   "execution_count": 1,
   "metadata": {
    "id": "2Vr66xAh3a0l"
   },
   "outputs": [],
   "source": [
    "import requests\n",
    "from bs4 import BeautifulSoup\n"
   ]
  },
  {
   "cell_type": "code",
   "execution_count": 4,
   "metadata": {
    "colab": {
     "base_uri": "https://localhost:8080/"
    },
    "id": "2h745Hox32q8",
    "outputId": "cc30114c-1230-4903-c2c0-6a3f9d7a0b63"
   },
   "outputs": [
    {
     "data": {
      "text/plain": [
       "200"
      ]
     },
     "execution_count": 4,
     "metadata": {},
     "output_type": "execute_result"
    }
   ],
   "source": [
    "url = 'https://books.toscrape.com/catalogue/category/books/childrens_11/index.html'\n",
    "# to be as a general code for any link\n",
    "response = requests.get(url)\n",
    "response.status_code"
   ]
  },
  {
   "cell_type": "code",
   "execution_count": 5,
   "metadata": {
    "colab": {
     "base_uri": "https://localhost:8080/"
    },
    "id": "4AXL375u4BRc",
    "outputId": "fc1701f9-e351-4eb5-8448-729f8d6f5893"
   },
   "outputs": [
    {
     "data": {
      "text/plain": [
       "<title>\n",
       "    Childrens | \n",
       "     Books to Scrape - Sandbox\n",
       "\n",
       "</title>"
      ]
     },
     "execution_count": 5,
     "metadata": {},
     "output_type": "execute_result"
    }
   ],
   "source": [
    "soup = BeautifulSoup(response.content,'lxml')\n",
    "soup.title  # a way to return soup to see its content as a title"
   ]
  },
  {
   "cell_type": "code",
   "execution_count": 6,
   "metadata": {
    "colab": {
     "base_uri": "https://localhost:8080/"
    },
    "id": "hl0QUNZe4yEd",
    "outputId": "0d14f154-f50f-4f4e-a2a2-57f24c6cb0ce"
   },
   "outputs": [
    {
     "data": {
      "text/plain": [
       "<h3><a href=\"../../../birdsong-a-story-in-pictures_975/index.html\" title=\"Birdsong: A Story in Pictures\">Birdsong: A Story in ...</a></h3>"
      ]
     },
     "execution_count": 6,
     "metadata": {},
     "output_type": "execute_result"
    }
   ],
   "source": [
    "#Trials on first title by find\n",
    "soup.find('h3')"
   ]
  },
  {
   "cell_type": "code",
   "execution_count": 7,
   "metadata": {
    "colab": {
     "base_uri": "https://localhost:8080/",
     "height": 35
    },
    "id": "DDz51Fi07T1V",
    "outputId": "5b84261b-1482-4a59-9978-d17485c530a8"
   },
   "outputs": [
    {
     "data": {
      "text/plain": [
       "'Birdsong: A Story in ...'"
      ]
     },
     "execution_count": 7,
     "metadata": {},
     "output_type": "execute_result"
    }
   ],
   "source": [
    "soup.find('h3').a.text\n",
    "# the title is not complete"
   ]
  },
  {
   "cell_type": "code",
   "execution_count": 8,
   "metadata": {
    "colab": {
     "base_uri": "https://localhost:8080/",
     "height": 35
    },
    "id": "6xQz7EZj7YCu",
    "outputId": "5fa19cef-e1bc-4534-d303-57d4f6782aba"
   },
   "outputs": [
    {
     "data": {
      "text/plain": [
       "'Birdsong: A Story in Pictures'"
      ]
     },
     "execution_count": 8,
     "metadata": {},
     "output_type": "execute_result"
    }
   ],
   "source": [
    "soup.find('h3').a['title']\n",
    "# This is the first correct title way"
   ]
  },
  {
   "cell_type": "code",
   "execution_count": 9,
   "metadata": {
    "colab": {
     "base_uri": "https://localhost:8080/",
     "height": 35
    },
    "id": "baradfn57hcu",
    "outputId": "b28e9255-cb5f-46fa-9a68-80ffd1336fe4"
   },
   "outputs": [
    {
     "data": {
      "text/plain": [
       "'Birdsong: A Story in Pictures'"
      ]
     },
     "execution_count": 9,
     "metadata": {},
     "output_type": "execute_result"
    }
   ],
   "source": [
    "soup.find('h3').a.get('title')\n",
    "# This is the second correct title way"
   ]
  },
  {
   "cell_type": "code",
   "execution_count": 10,
   "metadata": {
    "colab": {
     "base_uri": "https://localhost:8080/"
    },
    "id": "60XnK1_m7vlA",
    "outputId": "32fb77cd-6cf5-492c-aabd-d484251be2c7"
   },
   "outputs": [
    {
     "data": {
      "text/plain": [
       "[<h3><a href=\"../../../birdsong-a-story-in-pictures_975/index.html\" title=\"Birdsong: A Story in Pictures\">Birdsong: A Story in ...</a></h3>,\n",
       " <h3><a href=\"../../../the-bear-and-the-piano_967/index.html\" title=\"The Bear and the Piano\">The Bear and the ...</a></h3>,\n",
       " <h3><a href=\"../../../the-secret-of-dreadwillow-carse_944/index.html\" title=\"The Secret of Dreadwillow Carse\">The Secret of Dreadwillow ...</a></h3>,\n",
       " <h3><a href=\"../../../the-white-cat-and-the-monk-a-retelling-of-the-poem-pangur-ban_865/index.html\" title=\"The White Cat and the Monk: A Retelling of the Poem “Pangur Bán”\">The White Cat and ...</a></h3>,\n",
       " <h3><a href=\"../../../little-red_817/index.html\" title=\"Little Red\">Little Red</a></h3>,\n",
       " <h3><a href=\"../../../walt-disneys-alice-in-wonderland_777/index.html\" title=\"Walt Disney's Alice in Wonderland\">Walt Disney's Alice in ...</a></h3>,\n",
       " <h3><a href=\"../../../twenty-yawns_773/index.html\" title=\"Twenty Yawns\">Twenty Yawns</a></h3>,\n",
       " <h3><a href=\"../../../rain-fish_728/index.html\" title=\"Rain Fish\">Rain Fish</a></h3>,\n",
       " <h3><a href=\"../../../once-was-a-time_724/index.html\" title=\"Once Was a Time\">Once Was a Time</a></h3>,\n",
       " <h3><a href=\"../../../luis-paints-the-world_714/index.html\" title=\"Luis Paints the World\">Luis Paints the World</a></h3>,\n",
       " <h3><a href=\"../../../nap-a-roo_567/index.html\" title=\"Nap-a-Roo\">Nap-a-Roo</a></h3>,\n",
       " <h3><a href=\"../../../the-whale_501/index.html\" title=\"The Whale\">The Whale</a></h3>,\n",
       " <h3><a href=\"../../../shrunken-treasures-literary-classics-short-sweet-and-silly_484/index.html\" title=\"Shrunken Treasures: Literary Classics, Short, Sweet, and Silly\">Shrunken Treasures: Literary Classics, ...</a></h3>,\n",
       " <h3><a href=\"../../../raymie-nightingale_482/index.html\" title=\"Raymie Nightingale\">Raymie Nightingale</a></h3>,\n",
       " <h3><a href=\"../../../playing-from-the-heart_481/index.html\" title=\"Playing from the Heart\">Playing from the Heart</a></h3>,\n",
       " <h3><a href=\"../../../maybe-something-beautiful-how-art-transformed-a-neighborhood_386/index.html\" title=\"Maybe Something Beautiful: How Art Transformed a Neighborhood\">Maybe Something Beautiful: How ...</a></h3>,\n",
       " <h3><a href=\"../../../the-wild-robot_288/index.html\" title=\"The Wild Robot\">The Wild Robot</a></h3>,\n",
       " <h3><a href=\"../../../the-thing-about-jellyfish_283/index.html\" title=\"The Thing About Jellyfish\">The Thing About Jellyfish</a></h3>,\n",
       " <h3><a href=\"../../../the-lonely-ones_261/index.html\" title=\"The Lonely Ones\">The Lonely Ones</a></h3>,\n",
       " <h3><a href=\"../../../the-day-the-crayons-came-home-crayons_241/index.html\" title=\"The Day the Crayons Came Home (Crayons)\">The Day the Crayons ...</a></h3>]"
      ]
     },
     "execution_count": 10,
     "metadata": {},
     "output_type": "execute_result"
    }
   ],
   "source": [
    "#Trials on all titles by find_all\n",
    "soup.find_all('h3')"
   ]
  },
  {
   "cell_type": "code",
   "execution_count": 11,
   "metadata": {
    "colab": {
     "base_uri": "https://localhost:8080/"
    },
    "id": "GNHlMdHe8x0C",
    "outputId": "e61cda04-11f4-4a11-c2fd-4afaa4894e3b"
   },
   "outputs": [
    {
     "data": {
      "text/plain": [
       "['Birdsong: A Story in ...',\n",
       " 'The Bear and the ...',\n",
       " 'The Secret of Dreadwillow ...',\n",
       " 'The White Cat and ...',\n",
       " 'Little Red',\n",
       " \"Walt Disney's Alice in ...\",\n",
       " 'Twenty Yawns',\n",
       " 'Rain Fish',\n",
       " 'Once Was a Time',\n",
       " 'Luis Paints the World',\n",
       " 'Nap-a-Roo',\n",
       " 'The Whale',\n",
       " 'Shrunken Treasures: Literary Classics, ...',\n",
       " 'Raymie Nightingale',\n",
       " 'Playing from the Heart',\n",
       " 'Maybe Something Beautiful: How ...',\n",
       " 'The Wild Robot',\n",
       " 'The Thing About Jellyfish',\n",
       " 'The Lonely Ones',\n",
       " 'The Day the Crayons ...']"
      ]
     },
     "execution_count": 11,
     "metadata": {},
     "output_type": "execute_result"
    }
   ],
   "source": [
    "book_names = soup.find_all('h3')\n",
    "names_list1 = [book_name.a.text for book_name in book_names]\n",
    "names_list1"
   ]
  },
  {
   "cell_type": "code",
   "execution_count": 12,
   "metadata": {
    "colab": {
     "base_uri": "https://localhost:8080/"
    },
    "id": "JGY31HZy9FDP",
    "outputId": "deadcb31-c851-43ed-93ab-9c55841c277d"
   },
   "outputs": [
    {
     "data": {
      "text/plain": [
       "['Birdsong: A Story in Pictures',\n",
       " 'The Bear and the Piano',\n",
       " 'The Secret of Dreadwillow Carse',\n",
       " 'The White Cat and the Monk: A Retelling of the Poem “Pangur Bán”',\n",
       " 'Little Red',\n",
       " \"Walt Disney's Alice in Wonderland\",\n",
       " 'Twenty Yawns',\n",
       " 'Rain Fish',\n",
       " 'Once Was a Time',\n",
       " 'Luis Paints the World',\n",
       " 'Nap-a-Roo',\n",
       " 'The Whale',\n",
       " 'Shrunken Treasures: Literary Classics, Short, Sweet, and Silly',\n",
       " 'Raymie Nightingale',\n",
       " 'Playing from the Heart',\n",
       " 'Maybe Something Beautiful: How Art Transformed a Neighborhood',\n",
       " 'The Wild Robot',\n",
       " 'The Thing About Jellyfish',\n",
       " 'The Lonely Ones',\n",
       " 'The Day the Crayons Came Home (Crayons)']"
      ]
     },
     "execution_count": 12,
     "metadata": {},
     "output_type": "execute_result"
    }
   ],
   "source": [
    "book_names = soup.find_all('h3')\n",
    "names_list2 = [book_name.a.get('title') for book_name in book_names]\n",
    "names_list2\n",
    "# this way is better as the title all is shown not hidden"
   ]
  },
  {
   "cell_type": "code",
   "execution_count": 13,
   "metadata": {
    "colab": {
     "base_uri": "https://localhost:8080/"
    },
    "id": "YuBaMSkA9ugP",
    "outputId": "68f45c62-1802-4dcb-ecb7-60b4845d31db"
   },
   "outputs": [
    {
     "data": {
      "text/plain": [
       "['£54.64',\n",
       " '£36.89',\n",
       " '£56.13',\n",
       " '£58.08',\n",
       " '£13.47',\n",
       " '£12.96',\n",
       " '£22.08',\n",
       " '£23.57',\n",
       " '£18.28',\n",
       " '£53.95',\n",
       " '£25.08',\n",
       " '£35.96',\n",
       " '£52.87',\n",
       " '£34.41',\n",
       " '£32.38',\n",
       " '£22.54',\n",
       " '£56.07',\n",
       " '£48.77',\n",
       " '£43.59',\n",
       " '£26.33']"
      ]
     },
     "execution_count": 13,
     "metadata": {},
     "output_type": "execute_result"
    }
   ],
   "source": [
    "prices = soup.find_all('p',{'class': 'price_color'})\n",
    "prices_list = [price.text for price in prices]\n",
    "prices_list"
   ]
  },
  {
   "cell_type": "code",
   "execution_count": 14,
   "metadata": {
    "colab": {
     "base_uri": "https://localhost:8080/"
    },
    "id": "0Bq4Jl_B_EAB",
    "outputId": "382bfbbb-7613-4416-80b8-32cd5d289254"
   },
   "outputs": [
    {
     "name": "stdout",
     "output_type": "stream",
     "text": [
      "Prices and Books sucess scraped\n",
      "                                                title   price\n",
      "0                       Birdsong: A Story in Pictures  £54.64\n",
      "1                              The Bear and the Piano  £36.89\n",
      "2                     The Secret of Dreadwillow Carse  £56.13\n",
      "3   The White Cat and the Monk: A Retelling of the...  £58.08\n",
      "4                                          Little Red  £13.47\n",
      "5                   Walt Disney's Alice in Wonderland  £12.96\n",
      "6                                        Twenty Yawns  £22.08\n",
      "7                                           Rain Fish  £23.57\n",
      "8                                     Once Was a Time  £18.28\n",
      "9                               Luis Paints the World  £53.95\n",
      "10                                          Nap-a-Roo  £25.08\n",
      "11                                          The Whale  £35.96\n",
      "12  Shrunken Treasures: Literary Classics, Short, ...  £52.87\n",
      "13                                 Raymie Nightingale  £34.41\n",
      "14                             Playing from the Heart  £32.38\n",
      "15  Maybe Something Beautiful: How Art Transformed...  £22.54\n",
      "16                                     The Wild Robot  £56.07\n",
      "17                          The Thing About Jellyfish  £48.77\n",
      "18                                    The Lonely Ones  £43.59\n",
      "19            The Day the Crayons Came Home (Crayons)  £26.33\n"
     ]
    }
   ],
   "source": [
    "import pandas as pd\n",
    "scraped_data = {}\n",
    "scraped_data['title'] = names_list2\n",
    "scraped_data['price'] = prices_list\n",
    "\n",
    "df = pd.DataFrame(scraped_data)\n",
    "df.to_csv('Sara_children.csv', index = False)\n",
    "print('Prices and Books sucess scraped')\n",
    "print(df)"
   ]
  },
  {
   "cell_type": "code",
   "execution_count": 15,
   "metadata": {
    "colab": {
     "base_uri": "https://localhost:8080/"
    },
    "id": "bCGl7sto_48v",
    "outputId": "27c61a76-9263-4c86-d55f-1f65002f3c1d"
   },
   "outputs": [
    {
     "name": "stdout",
     "output_type": "stream",
     "text": [
      "Prices and Books sucess scraped\n",
      "                                               titles  prices\n",
      "0                       Birdsong: A Story in Pictures  £54.64\n",
      "1                              The Bear and the Piano  £36.89\n",
      "2                     The Secret of Dreadwillow Carse  £56.13\n",
      "3   The White Cat and the Monk: A Retelling of the...  £58.08\n",
      "4                                          Little Red  £13.47\n",
      "5                   Walt Disney's Alice in Wonderland  £12.96\n",
      "6                                        Twenty Yawns  £22.08\n",
      "7                                           Rain Fish  £23.57\n",
      "8                                     Once Was a Time  £18.28\n",
      "9                               Luis Paints the World  £53.95\n",
      "10                                          Nap-a-Roo  £25.08\n",
      "11                                          The Whale  £35.96\n",
      "12  Shrunken Treasures: Literary Classics, Short, ...  £52.87\n",
      "13                                 Raymie Nightingale  £34.41\n",
      "14                             Playing from the Heart  £32.38\n",
      "15  Maybe Something Beautiful: How Art Transformed...  £22.54\n",
      "16                                     The Wild Robot  £56.07\n",
      "17                          The Thing About Jellyfish  £48.77\n",
      "18                                    The Lonely Ones  £43.59\n",
      "19            The Day the Crayons Came Home (Crayons)  £26.33\n"
     ]
    }
   ],
   "source": [
    "#another way\n",
    "book_dic = {\n",
    "    'titles': names_list2,\n",
    "    'prices': prices_list\n",
    "}\n",
    "table = pd.DataFrame(book_dic)\n",
    "print('Prices and Books sucess scraped')\n",
    "print(table)"
   ]
  },
  {
   "cell_type": "code",
   "execution_count": 16,
   "metadata": {
    "colab": {
     "base_uri": "https://localhost:8080/",
     "height": 35
    },
    "id": "2X0FP_JBC-QX",
    "outputId": "27f229a8-46b5-4a5b-a1d9-88a9e40724e7"
   },
   "outputs": [
    {
     "data": {
      "text/plain": [
       "'\\n\\n\\n29 results - showing 1 to 20.\\n                \\n            \\n            \\n        \\n    '"
      ]
     },
     "execution_count": 16,
     "metadata": {},
     "output_type": "execute_result"
    }
   ],
   "source": [
    "soup.find('form',{'class': 'form-horizontal'}).text"
   ]
  },
  {
   "cell_type": "code",
   "execution_count": 17,
   "metadata": {
    "colab": {
     "base_uri": "https://localhost:8080/",
     "height": 35
    },
    "id": "W-2uOcS6TwmE",
    "outputId": "734ffce1-5d12-44a4-abbe-24a3801e4b81"
   },
   "outputs": [
    {
     "data": {
      "text/plain": [
       "'results - showing 1 to 20'"
      ]
     },
     "execution_count": 17,
     "metadata": {},
     "output_type": "execute_result"
    }
   ],
   "source": [
    "soup.find('form',{'class': 'form-horizontal'}).text[6:31]"
   ]
  },
  {
   "cell_type": "code",
   "execution_count": 18,
   "metadata": {
    "colab": {
     "base_uri": "https://localhost:8080/"
    },
    "id": "sYLM_PzMWdze",
    "outputId": "2415ab64-50ba-4a68-b6a1-0faf448d1fa0"
   },
   "outputs": [
    {
     "data": {
      "text/plain": [
       "['',\n",
       " '',\n",
       " '',\n",
       " '29 results - showing 1 to 20.',\n",
       " '                ',\n",
       " '            ',\n",
       " '            ',\n",
       " '        ',\n",
       " '    ']"
      ]
     },
     "execution_count": 18,
     "metadata": {},
     "output_type": "execute_result"
    }
   ],
   "source": [
    "soup.find('form',{'class': 'form-horizontal'}).text.split('\\n')"
   ]
  },
  {
   "cell_type": "code",
   "execution_count": 19,
   "metadata": {
    "colab": {
     "base_uri": "https://localhost:8080/",
     "height": 35
    },
    "id": "UH0Px973XQoN",
    "outputId": "9d524bab-7301-428c-a92d-d1c980638369"
   },
   "outputs": [
    {
     "data": {
      "text/plain": [
       "'29 results - showing 1 to 20.'"
      ]
     },
     "execution_count": 19,
     "metadata": {},
     "output_type": "execute_result"
    }
   ],
   "source": [
    "soup.find('form',{'class': 'form-horizontal'}).text.split('\\n')[3]"
   ]
  },
  {
   "cell_type": "code",
   "execution_count": 20,
   "metadata": {},
   "outputs": [
    {
     "data": {
      "text/plain": [
       "'29 results - showing 1 to 20.'"
      ]
     },
     "execution_count": 20,
     "metadata": {},
     "output_type": "execute_result"
    }
   ],
   "source": [
    "try1 = soup.find('form',{'class': 'form-horizontal'}).text.split('\\n')[3]\n",
    "try1"
   ]
  },
  {
   "cell_type": "code",
   "execution_count": 21,
   "metadata": {},
   "outputs": [
    {
     "data": {
      "text/plain": [
       "['29 results - showing 1 to 20', '']"
      ]
     },
     "execution_count": 21,
     "metadata": {},
     "output_type": "execute_result"
    }
   ],
   "source": [
    "try1.split('.')\n",
    "# split at word to that is written"
   ]
  },
  {
   "cell_type": "code",
   "execution_count": 22,
   "metadata": {},
   "outputs": [
    {
     "data": {
      "text/plain": [
       "'29 results - showing 1 to 20'"
      ]
     },
     "execution_count": 22,
     "metadata": {},
     "output_type": "execute_result"
    }
   ],
   "source": [
    "try1.split('.')[0]"
   ]
  },
  {
   "cell_type": "code",
   "execution_count": 23,
   "metadata": {},
   "outputs": [
    {
     "data": {
      "text/plain": [
       "['29 results - showing 1 ', '20']"
      ]
     },
     "execution_count": 23,
     "metadata": {},
     "output_type": "execute_result"
    }
   ],
   "source": [
    "try1.split('.')[0].split('to ')"
   ]
  },
  {
   "cell_type": "code",
   "execution_count": 24,
   "metadata": {},
   "outputs": [
    {
     "data": {
      "text/plain": [
       "'20'"
      ]
     },
     "execution_count": 24,
     "metadata": {},
     "output_type": "execute_result"
    }
   ],
   "source": [
    "try2 = try1.split('.')[0].split('to ')\n",
    "try2[1]"
   ]
  },
  {
   "cell_type": "code",
   "execution_count": 25,
   "metadata": {},
   "outputs": [
    {
     "data": {
      "text/plain": [
       "20"
      ]
     },
     "execution_count": 25,
     "metadata": {},
     "output_type": "execute_result"
    }
   ],
   "source": [
    "no_books_page = int(try2[1])\n",
    "no_books_page\n",
    "# finally you extracted the max numbers as int"
   ]
  },
  {
   "cell_type": "code",
   "execution_count": 26,
   "metadata": {
    "colab": {
     "base_uri": "https://localhost:8080/",
     "height": 35
    },
    "id": "4h-vHOEjUTfe",
    "outputId": "8fa68d1a-f98b-474e-e51e-1dd937def928"
   },
   "outputs": [
    {
     "data": {
      "text/plain": [
       "'29'"
      ]
     },
     "execution_count": 26,
     "metadata": {},
     "output_type": "execute_result"
    }
   ],
   "source": [
    "# to get the max numbers\n",
    "soup.find('form',{'class': 'form-horizontal'}).find('strong').text"
   ]
  },
  {
   "cell_type": "code",
   "execution_count": 27,
   "metadata": {},
   "outputs": [
    {
     "data": {
      "text/plain": [
       "29"
      ]
     },
     "execution_count": 27,
     "metadata": {},
     "output_type": "execute_result"
    }
   ],
   "source": [
    "max_no_books = int(soup.find('form',{'class': 'form-horizontal'}).find('strong').text)\n",
    "max_no_books\n",
    "# finally you got max number of books as int"
   ]
  },
  {
   "cell_type": "code",
   "execution_count": 28,
   "metadata": {},
   "outputs": [
    {
     "data": {
      "text/plain": [
       "2.4"
      ]
     },
     "execution_count": 28,
     "metadata": {},
     "output_type": "execute_result"
    }
   ],
   "source": [
    "# if trying manual without extracing\n",
    "# simplest\n",
    "48/20"
   ]
  },
  {
   "cell_type": "code",
   "execution_count": 29,
   "metadata": {},
   "outputs": [
    {
     "data": {
      "text/plain": [
       "3"
      ]
     },
     "execution_count": 29,
     "metadata": {},
     "output_type": "execute_result"
    }
   ],
   "source": [
    "import math\n",
    "math.ceil(48/20)\n",
    "# to decimal for larger"
   ]
  },
  {
   "cell_type": "code",
   "execution_count": 30,
   "metadata": {},
   "outputs": [
    {
     "name": "stdout",
     "output_type": "stream",
     "text": [
      "1.45\n"
     ]
    },
    {
     "data": {
      "text/plain": [
       "2"
      ]
     },
     "execution_count": 30,
     "metadata": {},
     "output_type": "execute_result"
    }
   ],
   "source": [
    "# in my link of children 29 result showing 1-20\n",
    "print(29/20)\n",
    "math.ceil(29/20)\n",
    "# first page = 20 / second = 29-20 = 9"
   ]
  },
  {
   "cell_type": "code",
   "execution_count": 31,
   "metadata": {},
   "outputs": [
    {
     "data": {
      "text/plain": [
       "2"
      ]
     },
     "execution_count": 31,
     "metadata": {},
     "output_type": "execute_result"
    }
   ],
   "source": [
    "no_books = int(math.ceil(29/20))\n",
    "no_books"
   ]
  },
  {
   "cell_type": "code",
   "execution_count": 32,
   "metadata": {},
   "outputs": [],
   "source": [
    "# to develop a function for number of pages to any category ...historicalfiction\n",
    "def pages():\n",
    "    url = 'https://books.toscrape.com/catalogue/category/books/historical-fiction_4/index.html'\n",
    "    res = requests.get(url)\n",
    "    soup = BeautifulSoup(res.content, 'lxml')\n",
    "    txt = soup.find('h3').a['title']\n",
    "    max_num = int(soup.find('form',{'class': 'form-horizontal'}).find('strong').text)\n",
    "    pages = math.ceil(max_num / 20)\n",
    "    return pages"
   ]
  },
  {
   "cell_type": "code",
   "execution_count": 33,
   "metadata": {},
   "outputs": [
    {
     "data": {
      "text/plain": [
       "2"
      ]
     },
     "execution_count": 33,
     "metadata": {},
     "output_type": "execute_result"
    }
   ],
   "source": [
    "pages()"
   ]
  },
  {
   "cell_type": "code",
   "execution_count": 34,
   "metadata": {},
   "outputs": [
    {
     "data": {
      "text/plain": [
       "2"
      ]
     },
     "execution_count": 34,
     "metadata": {},
     "output_type": "execute_result"
    }
   ],
   "source": [
    "math.ceil(26/20)"
   ]
  },
  {
   "cell_type": "code",
   "execution_count": 36,
   "metadata": {},
   "outputs": [
    {
     "name": "stdout",
     "output_type": "stream",
     "text": [
      "Total number of books: 29\n",
      "Number of books per page: 20\n",
      "Total number of pages: 2\n"
     ]
    }
   ],
   "source": [
    "# the best way is:\n",
    "import math\n",
    "total_no_of_books = int(soup.find('form', class_='form-horizontal').find('strong').text)\n",
    "no_of_books_per_page = 20\n",
    "no_of_pages = math.ceil(total_no_of_books / no_of_books_per_page)\n",
    "print(f'Total number of books: {total_no_of_books}')\n",
    "print(f'Number of books per page: {no_of_books_per_page}')\n",
    "print(f'Total number of pages: {no_of_pages}')"
   ]
  },
  {
   "cell_type": "code",
   "execution_count": 50,
   "metadata": {},
   "outputs": [
    {
     "name": "stdout",
     "output_type": "stream",
     "text": [
      "<p class=\"star-rating Three\">\n",
      "<i class=\"icon-star\"></i>\n",
      "<i class=\"icon-star\"></i>\n",
      "<i class=\"icon-star\"></i>\n",
      "<i class=\"icon-star\"></i>\n",
      "<i class=\"icon-star\"></i>\n",
      "</p>\n"
     ]
    },
    {
     "data": {
      "text/plain": [
       "'Three'"
      ]
     },
     "execution_count": 50,
     "metadata": {},
     "output_type": "execute_result"
    }
   ],
   "source": [
    "# to get rating of books\n",
    "ratings_test = soup.find('p', class_ = 'star-rating')\n",
    "print(ratings_test)\n",
    "ratings_test['class'][1]"
   ]
  },
  {
   "cell_type": "code",
   "execution_count": 46,
   "metadata": {},
   "outputs": [
    {
     "data": {
      "text/plain": [
       "['Three',\n",
       " 'One',\n",
       " 'One',\n",
       " 'Four',\n",
       " 'Three',\n",
       " 'Five',\n",
       " 'Two',\n",
       " 'Three',\n",
       " 'Two',\n",
       " 'Three',\n",
       " 'One',\n",
       " 'Four',\n",
       " 'Three',\n",
       " 'Two',\n",
       " 'One',\n",
       " 'One',\n",
       " 'Three',\n",
       " 'One',\n",
       " 'Five',\n",
       " 'Five']"
      ]
     },
     "execution_count": 46,
     "metadata": {},
     "output_type": "execute_result"
    }
   ],
   "source": [
    "#the best way is:\n",
    "ratings = [rating['class'][1] for rating in soup.find_all('p', class_ = 'star-rating')]\n",
    "ratings"
   ]
  },
  {
   "cell_type": "code",
   "execution_count": null,
   "metadata": {},
   "outputs": [],
   "source": []
  }
 ],
 "metadata": {
  "colab": {
   "provenance": []
  },
  "kernelspec": {
   "display_name": "base",
   "language": "python",
   "name": "python3"
  },
  "language_info": {
   "codemirror_mode": {
    "name": "ipython",
    "version": 3
   },
   "file_extension": ".py",
   "mimetype": "text/x-python",
   "name": "python",
   "nbconvert_exporter": "python",
   "pygments_lexer": "ipython3",
   "version": "3.12.7"
  }
 },
 "nbformat": 4,
 "nbformat_minor": 0
}
